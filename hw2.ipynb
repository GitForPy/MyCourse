{
 "cells": [
  {
   "cell_type": "markdown",
   "metadata": {},
   "source": [
    "**Задача 1**. Дано слово из латинских букв. Напишите скрипт, который выводит на экран букву из середины слова (если число букв нечетное). Если букв четное число, то на экран выводятся две буквы из середины.  \n",
    "\n",
    "Пример: для 'test' должно выводится 'es', для 'testing' - 't'"
   ]
  },
  {
   "cell_type": "code",
   "execution_count": 9,
   "metadata": {},
   "outputs": [
    {
     "name": "stdout",
     "output_type": "stream",
     "text": [
      "Input your text: testing\n",
      "t\n"
     ]
    }
   ],
   "source": [
    "text = input('Input your text: ') #testing\n",
    "\n",
    "if len(text) % 2 == 0:\n",
    "    even_mid = int(len(text)/2)\n",
    "    print(text[even_mid-1:even_mid+1])\n",
    "else:\n",
    "    odd_mid = int(len(text)//2)\n",
    "    print(text[odd_mid])"
   ]
  },
  {
   "cell_type": "markdown",
   "metadata": {},
   "source": [
    "**Задача 2**.\n",
    "Дан список с визитами по городам и странам. Напишите код, который возвращает отфильтрованный список geo_logs, содержащий только визиты из России. Считайте, что список geo_logs легко помещается в оперативной памяти.\n"
   ]
  },
  {
   "cell_type": "code",
   "execution_count": 19,
   "metadata": {},
   "outputs": [],
   "source": [
    "geo_logs = [\n",
    "['visit1', ['Москва', 'Россия-1']],\n",
    "['visit2', ['Дели', 'Индия']],\n",
    "['visit3', ['Владимир', 'Российская Федерация']],\n",
    "['visit4', ['Лиссабон', 'Португалия']],\n",
    "['visit5', ['Париж', 'Франция']],\n",
    "['visit6', ['Лиссабон', 'Португалия']],\n",
    "['visit7', ['Тула', 'Россия']],\n",
    "['visit8', ['Тула', 'Россия']],\n",
    "['visit9', ['Курск', 'Россия']],\n",
    "['visit10', ['Архангельск', 'Россия']],\n",
    "]"
   ]
  },
  {
   "cell_type": "code",
   "execution_count": 20,
   "metadata": {},
   "outputs": [
    {
     "data": {
      "text/plain": [
       "10"
      ]
     },
     "execution_count": 20,
     "metadata": {},
     "output_type": "execute_result"
    }
   ],
   "source": [
    "len(geo_logs)"
   ]
  },
  {
   "cell_type": "code",
   "execution_count": 21,
   "metadata": {},
   "outputs": [
    {
     "data": {
      "text/plain": [
       "[['visit7', ['Тула', 'Россия']],\n",
       " ['visit8', ['Тула', 'Россия']],\n",
       " ['visit9', ['Курск', 'Россия']],\n",
       " ['visit10', ['Архангельск', 'Россия']]]"
      ]
     },
     "execution_count": 21,
     "metadata": {},
     "output_type": "execute_result"
    }
   ],
   "source": [
    " # Решение 1\n",
    "[i for i in geo_logs if i[1][1] == 'Россия']"
   ]
  },
  {
   "cell_type": "code",
   "execution_count": 22,
   "metadata": {},
   "outputs": [
    {
     "name": "stdout",
     "output_type": "stream",
     "text": [
      "['visit1', ['Москва', 'Россия-1']]\n",
      "['visit3', ['Владимир', 'Российская Федерация']]\n",
      "['visit7', ['Тула', 'Россия']]\n",
      "['visit8', ['Тула', 'Россия']]\n",
      "['visit9', ['Курск', 'Россия']]\n",
      "['visit10', ['Архангельск', 'Россия']]\n"
     ]
    }
   ],
   "source": [
    "# Решение 2\n",
    "for element in geo_logs:\n",
    "    if 'Росси' in element[1][1]:\n",
    "        print(element)"
   ]
  },
  {
   "cell_type": "code",
   "execution_count": 16,
   "metadata": {},
   "outputs": [
    {
     "name": "stdout",
     "output_type": "stream",
     "text": [
      "True\n",
      "False\n",
      "False\n",
      "True\n"
     ]
    }
   ],
   "source": [
    "a = 'he'\n",
    "b = 'hello'\n",
    "print(a in b)\n",
    "print(b in a)\n",
    "\n",
    "print('Россия-1' in 'Россия')\n",
    "print('Россия' in 'Россия-1')"
   ]
  },
  {
   "cell_type": "markdown",
   "metadata": {},
   "source": [
    "**Задача 3**.\n",
    "\n",
    "Мы делаем MVP dating-сервиса, и у нас есть список парней и девушек (их число может варьироваться):"
   ]
  },
  {
   "cell_type": "code",
   "execution_count": 37,
   "metadata": {},
   "outputs": [],
   "source": [
    "boys = ['Peter', 'Alex', 'John', 'Arthur', 'Richard']\n",
    "girls = ['Kate', 'Liza', 'Kira', 'Emma', 'Trisha']"
   ]
  },
  {
   "cell_type": "markdown",
   "metadata": {},
   "source": [
    "Выдвигаем гипотезу: лучшие рекомендации мы получим, если просто отсортируем имена по алфавиту и познакомим людей с одинаковыми индексами после сортировки! \"Познакомить\" пары нам поможет функция zip, а в цикле распакуем zip-объект и выведем информацию в виде:\n",
    "\n",
    "Идеальные пары:  \n",
    "Alex и Emma  \n",
    "Arthur и Kate  \n",
    "John и Kira  \n",
    "Peter и Liza  \n",
    "Richard и Trisha  "
   ]
  },
  {
   "cell_type": "markdown",
   "metadata": {},
   "source": [
    "**Внимание! Если количество людей в списках будет не совпадать, то мы никого знакомить не будет и выведем пользователю предупреждение, что кто-то может остаться без пары!**"
   ]
  },
  {
   "cell_type": "code",
   "execution_count": 50,
   "metadata": {},
   "outputs": [
    {
     "data": {
      "text/plain": [
       "[('Alex', 'Emma'),\n",
       " ('Arthur', 'Kate'),\n",
       " ('John', 'Kira'),\n",
       " ('Peter', 'Liza'),\n",
       " ('Richard', 'Trisha')]"
      ]
     },
     "execution_count": 50,
     "metadata": {},
     "output_type": "execute_result"
    }
   ],
   "source": [
    "pairs = zip(sorted(boys), sorted(girls))\n",
    "\n",
    "list(pairs)\n"
   ]
  },
  {
   "cell_type": "markdown",
   "metadata": {},
   "source": [
    "**Задача 4**.\n",
    "\n",
    "\n",
    "Выведите на экран все уникальные гео-ID из значений словаря ids. Т. е. список вида [213, 15, 54, 119, 98, 35]"
   ]
  },
  {
   "cell_type": "code",
   "execution_count": 95,
   "metadata": {},
   "outputs": [],
   "source": [
    "ids = {'user1': [213, 213, 213, 15, 213], 'user2': [54, 54, 119, 119, 119], 'user3': [213, 98, 98, 35]}"
   ]
  },
  {
   "cell_type": "code",
   "execution_count": 96,
   "metadata": {},
   "outputs": [
    {
     "name": "stdout",
     "output_type": "stream",
     "text": [
      "Решение: 98 35 15 213 54 119\n"
     ]
    }
   ],
   "source": [
    "print('Решение:', ' '.join(map(str, set([v for row in ids.values() for v in row]))))"
   ]
  },
  {
   "cell_type": "code",
   "execution_count": 45,
   "metadata": {},
   "outputs": [
    {
     "name": "stdout",
     "output_type": "stream",
     "text": [
      "Решение 1: [213, 15, 54, 119, 98, 35]\n",
      "\n",
      "Решение 2: [15, 35, 54, 98, 119, 213]\n",
      "\n",
      "Решение 3: 98 35 15 213 54 119\n",
      "Решение 4: 35 119 15 213 54 98\n",
      "\n",
      "{98, 35, 15, 213, 54, 119}\n",
      "Решение 6: 98 35 15 213 54 119\n"
     ]
    }
   ],
   "source": [
    "# Решение 1\n",
    "lst = []\n",
    "for item in ids.values():\n",
    "    for element in item:\n",
    "        if element not in lst:\n",
    "            lst.append(element)\n",
    "print('Решение 1:', lst, end='\\n\\n')\n",
    "\n",
    "# Решение 2\n",
    "lst = []\n",
    "for item in ids.values():\n",
    "    lst += item  # не через append, иначе получим список вида: [213, 213, 213, 15, 213], [54, 54, 119, 119, 119] и т.д\n",
    "lst = sorted(set(lst), reverse=False)\n",
    "print('Решение 2:', lst, end='\\n\\n')\n",
    "\n",
    "# Решение 3\n",
    "l = []\n",
    "for item in ids.values():\n",
    "    for elem in item:\n",
    "        l.append(elem)\n",
    "l = set(l)\n",
    "print('Решение 3:', ' '.join(map(str,l)))\n",
    "\n",
    "# Решение 4\n",
    "lst = set()\n",
    "for item in ids.values():\n",
    "    for element in item:\n",
    "        lst.add(str(element))\n",
    "print('Решение 4:', ' '.join(lst), end='\\n\\n')\n",
    "\n",
    "# Решение 5\n",
    "s = set()\n",
    "[s.add(v) for row in ids.values() for v in row]\n",
    "print(s)\n",
    "\n",
    "# Решение 6\n",
    "print('Решение 6:', ' '.join(map(str, set([v for row in ids.values() for v in row]))))\n",
    "\n",
    "            "
   ]
  },
  {
   "cell_type": "markdown",
   "metadata": {},
   "source": [
    "**Задача 5**. У нас есть список, содержащий информацию о среднедневной температуре в Фаренгейтах за недельный период по странам.\n",
    "Необходимо написать код, который рассчитает среднюю температуру за неделю в Цельсиях для каждой страны."
   ]
  },
  {
   "cell_type": "code",
   "execution_count": 24,
   "metadata": {},
   "outputs": [],
   "source": [
    "countries_temperature = [\n",
    " ['Thailand', [75.2, 77, 78.8, 73.4, 68, 75.2, 77]],\n",
    " ['Germany', [57.2, 55.4, 59, 59, 53.6, 55.4, 57.2]],\n",
    " ['Russia', [35.6, 37.4, 39.2, 41, 42.8, 39.2, 35.6]],\n",
    " ['Poland', [50, 50, 53.6, 57.2, 55.4, 55.4, 51.8]],\n",
    "]"
   ]
  },
  {
   "cell_type": "code",
   "execution_count": 27,
   "metadata": {},
   "outputs": [
    {
     "name": "stdout",
     "output_type": "stream",
     "text": [
      "Thailand: 23.86°C\n",
      "Germany: 13.71°C\n",
      "Russia: 3.71°C\n",
      "Poland: 11.86°C\n"
     ]
    }
   ],
   "source": [
    "# Ц = 5 / 9 * (Ф - 32), где\n",
    "from statistics import mean\n",
    "\n",
    "for country, t in countries_temperature:\n",
    "    t_avg_F = sum(t)/len(t)\n",
    "    t_avg_F = mean(t)\n",
    "    t_avg_C = 5/9 * (t_avg_F - 32)\n",
    "    print('{}: {:.2f}°C'.format(country, t_avg_C))"
   ]
  },
  {
   "cell_type": "markdown",
   "metadata": {},
   "source": [
    "**Задача 6.**\n",
    "\n",
    "Список поисковых запросов. Получить распределение количества слов в них. Т. е. поисковых запросов из одного слова 5%, из двух - 7%, из трех - 3% итд."
   ]
  },
  {
   "cell_type": "code",
   "execution_count": 81,
   "metadata": {},
   "outputs": [],
   "source": [
    "queries = [\n",
    "'смотреть сериалы онлайн',\n",
    "'новости спорта',\n",
    "'афиша кино',\n",
    "'курс доллара',\n",
    "'сериалы этим летом',\n",
    "'курс по питону',\n",
    "'сериалы про спорт',\n",
    "'google'   \n",
    "]"
   ]
  },
  {
   "cell_type": "code",
   "execution_count": 82,
   "metadata": {},
   "outputs": [
    {
     "name": "stdout",
     "output_type": "stream",
     "text": [
      "['смотреть', 'сериалы', 'онлайн'] - 3\n",
      "['новости', 'спорта'] - 2\n",
      "['афиша', 'кино'] - 2\n",
      "['курс', 'доллара'] - 2\n",
      "['сериалы', 'этим', 'летом'] - 3\n",
      "['курс', 'по', 'питону'] - 3\n",
      "['сериалы', 'про', 'спорт'] - 3\n",
      "['google'] - 1\n"
     ]
    }
   ],
   "source": [
    "for item in queries:\n",
    "    print(item.split(), '-', len(item.split()))"
   ]
  },
  {
   "cell_type": "code",
   "execution_count": 93,
   "metadata": {},
   "outputs": [
    {
     "name": "stdout",
     "output_type": "stream",
     "text": [
      "Поисковых запросов из 3 слов - 50%\n",
      "Поисковых запросов из 2 слов - 38%\n",
      "Поисковых запросов из 1 слова - 12%\n"
     ]
    }
   ],
   "source": [
    "d = {}\n",
    "\n",
    "for element in queries:\n",
    "    length = len(element.split())\n",
    "    d.setdefault(length, 0)\n",
    "    d[length] += 1\n",
    "total = len(queries)\n",
    "\n",
    "for k, v in d.items():\n",
    "    if v == 1:\n",
    "        forma_slova = 'слова'\n",
    "    else:\n",
    "        forma_slova = 'слов'\n",
    "    print('Поисковых запросов из {} {} - {:.0%}'.format(k, forma_slova, v/total))\n",
    "\n"
   ]
  },
  {
   "cell_type": "markdown",
   "metadata": {},
   "source": [
    "**Задача 7.**\n",
    "\n",
    "Дана статистика рекламных каналов по объемам продаж. Напишите скрипт, который возвращает название канала с максимальным объемом.\n",
    "Т. е. в данном примере скрипт должен возвращать 'yandex'."
   ]
  },
  {
   "cell_type": "code",
   "execution_count": 85,
   "metadata": {},
   "outputs": [],
   "source": [
    "stats = {'facebook': 55, 'yandex': 120, 'vk': 115, 'google': 99, 'email': 42, 'ok': 98}"
   ]
  },
  {
   "cell_type": "code",
   "execution_count": 86,
   "metadata": {},
   "outputs": [
    {
     "data": {
      "text/plain": [
       "'yandex'"
      ]
     },
     "execution_count": 86,
     "metadata": {},
     "output_type": "execute_result"
    }
   ],
   "source": [
    "max(stats.keys(), key=(lambda key: stats[key]))"
   ]
  },
  {
   "cell_type": "code",
   "execution_count": 87,
   "metadata": {},
   "outputs": [
    {
     "name": "stdout",
     "output_type": "stream",
     "text": [
      "Тестировка: [('facebook', 55), ('yandex', 120), ('vk', 115), ('google', 99), ('email', 42), ('ok', 98)]\n",
      "Тестировка: [('yandex', 120), ('vk', 115), ('google', 99), ('ok', 98), ('facebook', 55), ('email', 42)]\n",
      "\n",
      "yandex\n"
     ]
    }
   ],
   "source": [
    "list_stats = list(stats.items()) # из словаря создаю список, состоящий из кортежей.\n",
    "print('Тестировка:', list_stats) # вывод на печать списка\n",
    "list_stats.sort(key = lambda item: item[1], reverse=True) # сортировка списка по ключу через лямда функцию в порядке убывания.\n",
    "print('Тестировка:', list_stats, end='\\n\\n') # вывод отсортированного списка по ключам\n",
    "# for item in list_stats:\n",
    "print(list_stats[0][0])"
   ]
  },
  {
   "cell_type": "markdown",
   "metadata": {},
   "source": [
    "**Задача 8.** \n",
    "\n",
    "Дан поток логов по количеству просмотренных страниц для каждого пользователя. Список отсортирован по ID пользователя. Вам необходимо написать алгоритм, который считает среднее значение просмотров на пользователя. \n",
    "Т. е. надо посчитать отношение суммы всех просмотров к количеству уникальных пользователей."
   ]
  },
  {
   "cell_type": "code",
   "execution_count": 47,
   "metadata": {},
   "outputs": [],
   "source": [
    "stream = [\n",
    "    '2018-01-01,user1,3',\n",
    "    '2018-01-07,user1,4',\n",
    "    '2018-03-29,user1,1',\n",
    "    '2018-04-04,user1,13',\n",
    "    '2018-01-05,user2,7',\n",
    "    '2018-06-14,user3,4',\n",
    "    '2018-07-02,user3,10',\n",
    "    '2018-03-21,user4,19',\n",
    "    '2018-03-22,user4,4',\n",
    "    '2018-04-22,user4,8',\n",
    "    '2018-05-03,user4,9',\n",
    "    '2018-05-11,user4,11',\n",
    "]"
   ]
  },
  {
   "cell_type": "code",
   "execution_count": 50,
   "metadata": {},
   "outputs": [
    {
     "name": "stdout",
     "output_type": "stream",
     "text": [
      "['2018-01-01', 'user1', '3']\n",
      "['2018-01-07', 'user1', '4']\n",
      "['2018-03-29', 'user1', '1']\n",
      "['2018-04-04', 'user1', '13']\n",
      "['2018-01-05', 'user2', '7']\n",
      "['2018-06-14', 'user3', '4']\n",
      "['2018-07-02', 'user3', '10']\n",
      "['2018-03-21', 'user4', '19']\n",
      "['2018-03-22', 'user4', '4']\n",
      "['2018-04-22', 'user4', '8']\n",
      "['2018-05-03', 'user4', '9']\n",
      "['2018-05-11', 'user4', '11']\n",
      "{'user3', 'user2', 'user1', 'user4'}\n",
      "Cреднее значение просмотров на пользователя составляет: 23.25\n"
     ]
    }
   ],
   "source": [
    "n_view = 0\n",
    "users = set()\n",
    "for record in stream:\n",
    "    record = record.split(',')\n",
    "    print(record)\n",
    "    n_view += int(record[2])\n",
    "    users.add(record[1])     # добавляет только уникальные значения, доп. проверка не нужна\n",
    "# print(n_view, len(users))   # для отладки\n",
    "avg = n_view / len(users)\n",
    "\n",
    "print('Cреднее значение просмотров на пользователя составляет: {}'.format(avg))"
   ]
  },
  {
   "cell_type": "markdown",
   "metadata": {},
   "source": [
    "**Задача 9**. \n",
    "\n",
    "Дана статистика рекламных кампаний по дням. Напишите алгоритм, который по паре дата-кампания ищет значение численного столбца. Т. е. для даты '2018-01-01' и 'google' нужно получить число 25. Считайте, что все комбинации дата-кампания уникальны, а список stats легко помещается в оперативной памяти."
   ]
  },
  {
   "cell_type": "code",
   "execution_count": 59,
   "metadata": {},
   "outputs": [],
   "source": [
    "stats = [\n",
    "    ['2018-01-01', 'google', 25],\n",
    "    ['2018-01-01', 'yandex', 65],\n",
    "    ['2018-01-01', 'market', 89],\n",
    "    ['2018-01-02', 'google', 574],\n",
    "    ['2018-01-02', 'yandex', 249],\n",
    "    ['2018-01-02', 'market', 994],\n",
    "    ['2018-01-03', 'google', 1843],\n",
    "    ['2018-01-03', 'yandex', 1327],\n",
    "    ['2018-01-03', 'market', 1764],\n",
    "]"
   ]
  },
  {
   "cell_type": "code",
   "execution_count": 63,
   "metadata": {},
   "outputs": [
    {
     "name": "stdout",
     "output_type": "stream",
     "text": [
      "25\n"
     ]
    }
   ],
   "source": [
    "date, company = '2018-01-01', 'google'\n",
    "\n",
    "value = list(filter(lambda string: string[0]==date and string[1] == company, stats))[0][2]\n",
    "print(value)\n"
   ]
  },
  {
   "cell_type": "markdown",
   "metadata": {},
   "source": [
    "**Задача 10**. Дан список вида:\n",
    "Напишите код, который будет вычислять сумму элементов на диагонали. Т. е. 13+32+23+35.  \n",
    "Список может быть любой длины, но всегда является \"квадратным\" (количество элементов во вложенных списках равно их количеству)."
   ]
  },
  {
   "cell_type": "code",
   "execution_count": 1,
   "metadata": {},
   "outputs": [],
   "source": [
    "\n",
    "data = [\n",
    "    [13, 25, 23, 34],\n",
    "    [45, 32, 44, 47],\n",
    "    [12, 33, 23, 95],\n",
    "    [13, 53, 34, 35]\n",
    "]\n"
   ]
  },
  {
   "cell_type": "code",
   "execution_count": 3,
   "metadata": {},
   "outputs": [
    {
     "name": "stdout",
     "output_type": "stream",
     "text": [
      "103\n"
     ]
    }
   ],
   "source": [
    "result, pointer = 0, 0\n",
    "for row in data:\n",
    "    result += row[pointer]\n",
    "    pointer += 1\n",
    "print(result)\n",
    "    "
   ]
  },
  {
   "cell_type": "code",
   "execution_count": 65,
   "metadata": {},
   "outputs": [
    {
     "name": "stdout",
     "output_type": "stream",
     "text": [
      "103\n"
     ]
    }
   ],
   "source": [
    "result = 0\n",
    "for i, row in enumerate(data):\n",
    "    result += data[i][i]\n",
    "print(result)"
   ]
  },
  {
   "cell_type": "markdown",
   "metadata": {},
   "source": [
    "____________________________________________________\n",
    "**Бонусный вариант** (делать его не обязательно)\n",
    "\n",
    "Рассмотрите обобщенный вариант задачи 9: имеется таблица из n столбцов. Первые n-1 столбцов - признаки (комбинации этих признаков в таблице уникальные). Последний столбец - значение. Вам необходимо по набору n-1 признаков найти соответствующую строчку в таблице и вернуть значение из правого столбца. Учтите, что исходная таблица может быть любого размера.\n",
    " \n",
    "Одно из применений задачи - объединение двух таблиц по n столбцов, одна из которых помещается в оперативной памяти. Например, 7 столбцов по 1 и 10 миллионов строк."
   ]
  },
  {
   "cell_type": "code",
   "execution_count": null,
   "metadata": {},
   "outputs": [],
   "source": []
  }
 ],
 "metadata": {
  "kernelspec": {
   "display_name": "Python 3",
   "language": "python",
   "name": "python3"
  },
  "language_info": {
   "codemirror_mode": {
    "name": "ipython",
    "version": 3
   },
   "file_extension": ".py",
   "mimetype": "text/x-python",
   "name": "python",
   "nbconvert_exporter": "python",
   "pygments_lexer": "ipython3",
   "version": "3.7.6"
  }
 },
 "nbformat": 4,
 "nbformat_minor": 2
}
