{
 "cells": [
  {
   "cell_type": "markdown",
   "metadata": {},
   "source": [
    "**Задание 1**. \n",
    "\n",
    "Даны 2 строки: *long_phrase* и *short_phrase*. \n",
    "Напишите код, который проверяет действительно ли длинная фраза *long_phrase* длиннее короткой *short_phrase*. И выводит *True* или *False* в зависимости от результата сравнения.\n",
    "\n",
    "long_phrase = 'Насколько проще было бы писать программы, если бы не заказчики'\n",
    "short_phrase = '640Кб должно хватить для любых задач. Билл Гейтс (по легенде)'"
   ]
  },
  {
   "cell_type": "code",
   "execution_count": 3,
   "metadata": {},
   "outputs": [],
   "source": [
    "long_phrase = 'Насколько проще было бы писать программы, если бы не заказчики'\n",
    "short_phrase = '640Кб должно хватить для любых задач. Билл Гейтс (по легенде)''"
   ]
  },
  {
   "cell_type": "code",
   "execution_count": 4,
   "metadata": {},
   "outputs": [
    {
     "data": {
      "text/plain": [
       "True"
      ]
     },
     "execution_count": 4,
     "metadata": {},
     "output_type": "execute_result"
    }
   ],
   "source": [
    "print(len(long_phrase) > len(short_phrase))"
   ]
  },
  {
   "cell_type": "markdown",
   "metadata": {},
   "source": [
    "**Задание 2**. \n",
    "\n",
    "Дано значение объема файла в байтах. Напишите перевод этого значения в мегабайты в формате: \"*Объем файла равен 213.68Mb*\"\n"
   ]
  },
  {
   "cell_type": "code",
   "execution_count": 3,
   "metadata": {},
   "outputs": [
    {
     "name": "stdout",
     "output_type": "stream",
     "text": [
      "Объем файла равен 909.26Mb\n"
     ]
    }
   ],
   "source": [
    "# 1Мб = 1024 Кб = 1024 **2байт; Ссылка на форматирование строк: https://pythonworld.ru/osnovy/formatirovanie-strok-metod-format.html\n",
    "byte = 953423893\n",
    "print('Объем файла равен {:.2f}Mb'.format(byte/1024**2))"
   ]
  },
  {
   "cell_type": "markdown",
   "metadata": {},
   "source": [
    "**Задание 3**. Разработать приложение для определения знака зодиака по дате рождения. Пример:\n",
    "\n",
    "Введите месяц: март\n",
    "\n",
    "Введите число: 6\n",
    "\n",
    "Вывод: Рыбы"
   ]
  },
  {
   "cell_type": "code",
   "execution_count": 3,
   "metadata": {},
   "outputs": [
    {
     "name": "stdout",
     "output_type": "stream",
     "text": [
      "Введите в именительном падеже в каком месяце вы родилисьапрель\n",
      "Какого числа вы родились? 11\n",
      "\n",
      "\n",
      "Ваш знак зодиака Овен. Не правда ли?\n"
     ]
    }
   ],
   "source": [
    "month = input('Введите в именительном падеже в каком месяце вы родились')\n",
    "day = int(input('Какого числа вы родились? '))\n",
    "print('\\n')\n",
    "\n",
    "if month == 'январь' and 20 <= day <= 31 or\\\n",
    "   month == 'февраль' and 1 <= day <= 19:\n",
    "    print('Ваш знак зодиака - Водолей. Не правда ли?')  \n",
    "    \n",
    "elif month == 'февраль' and 20 <= day <= 29 or\\\n",
    "     month == 'март' and 1 <= day <= 20:\n",
    "    print('Ваш знак зодиака Рыбы. Не правда ли?')\n",
    "    \n",
    "elif month == 'март' and 21 <= day <= 31 or\\\n",
    "     month == 'апрель' and 1 <day <= 19:\n",
    "    print('Ваш знак зодиака Овен. Не правда ли?')\n",
    "    \n",
    "elif month == 'апрель' and 20 <= day <= 30 or\\\n",
    "     month == 'май' and 1 <= day <= 20:\n",
    "    print('Ваш знак зодиака Телец. Не правда ли')\n",
    "    \n",
    "elif month == 'май' and 21 <= day <= 31 or\\\n",
    "     month == 'июнь' and 1 <= day <= 20:\n",
    "    print('Ваш знак зодиака Близнецы. Не правда ли?')\n",
    "    \n",
    "elif month == 'июнь' and 21 <= day <= 30 or\\\n",
    "     month == 'июль' and 1 <= day <= 22:\n",
    "    print('Ваш знак зодиака Рак. Не правда ли?')\n",
    "    \n",
    "elif month == 'июль' and 23 <= day <= 31 or\\\n",
    "     month == 'август' and 1 <= day <= 22:\n",
    "    print('Ваш знак зодиака Лев. Не правда ли?')\n",
    "    \n",
    "elif month == 'август' and 23 <= day <= 31 or\\\n",
    "     month == 'сентябрь' and 1 <= day <= 22:\n",
    "    print('Ваш знак зодиака Дева. Не правда ли?')\n",
    "    \n",
    "elif month == 'сентябрь' and 23 <= day <= 30 or\\\n",
    "     month == 'октябрь' and 1 <= day <= 23:\n",
    "    print('Ваш знак зодиака Весы. Не правда ли?')\n",
    "    \n",
    "elif month == 'октябрь' and 24 <= day <= 31 or\\\n",
    "     month == 'ноябрь' and 1 <= day <= 22:\n",
    "    print('Ваш знак зодиака Скорпион. Не правда ли?')\n",
    "    \n",
    "elif month == 'ноябрь' and 23 <= day <= 30 or\\\n",
    "     month == 'декабрь' and 1 <= day <= 21:\n",
    "    print('Ваш знак зодиака Стрелец. Не правда ли?')\n",
    "    \n",
    "elif month == 'декабрь' and 22 <= day <= 31 or\\\n",
    "     month == 'январь' and 1 <= day <= 19:\n",
    "    print('Ваш знак зодиака Козерог. Не правда ли?')"
   ]
  },
  {
   "cell_type": "markdown",
   "metadata": {},
   "source": [
    "**Задание 4**\n",
    "\n",
    "Выведите на экран значение синуса 30 градусов с помощью метода math.sin."
   ]
  },
  {
   "cell_type": "code",
   "execution_count": 6,
   "metadata": {},
   "outputs": [],
   "source": [
    "import math"
   ]
  },
  {
   "cell_type": "code",
   "execution_count": 9,
   "metadata": {},
   "outputs": [
    {
     "name": "stdout",
     "output_type": "stream",
     "text": [
      "0.5\n"
     ]
    }
   ],
   "source": [
    "#degrees(): конвертирует радиан в градусы; radians(): конвертирует градус в радианы;\n",
    "\n",
    "print('{:.1f}'.format(math.sin(math.radians(30))))"
   ]
  },
  {
   "cell_type": "markdown",
   "metadata": {},
   "source": [
    "**Задание 5**\n",
    "\n",
    "В прошлом задании у вас скорее всего не получилось точного значения 0.5 из-за конечной точности вычисления синуса. Но почему некоторые простые операции также могут давать неточный результат? Попробуйте вывести на экран результат операции 0.1 + 0.2"
   ]
  },
  {
   "cell_type": "code",
   "execution_count": 11,
   "metadata": {},
   "outputs": [
    {
     "name": "stdout",
     "output_type": "stream",
     "text": [
      "0.30000000000000004\n"
     ]
    }
   ],
   "source": [
    "x = 0.1 + 0.2\n",
    "print(x)"
   ]
  },
  {
   "cell_type": "markdown",
   "metadata": {},
   "source": [
    "**Задание 6**\n",
    "\n",
    "В переменных a и b записаны 2 различных числа. Вам необходимо написать код, который меняет значения a и b местами без использования третьей переменной."
   ]
  },
  {
   "cell_type": "code",
   "execution_count": 26,
   "metadata": {
    "scrolled": true
   },
   "outputs": [
    {
     "name": "stdout",
     "output_type": "stream",
     "text": [
      "a = 7 и b = 5\n"
     ]
    }
   ],
   "source": [
    "a = 5\n",
    "b = 7\n",
    "a, b = b, a\n",
    "print('a = {} и b = {}'.format(a, b))"
   ]
  },
  {
   "cell_type": "markdown",
   "metadata": {},
   "source": [
    "**Задание 7** \n",
    "\n",
    "Дана строка text. Определите какая из двух букв встречается в нем чаще - 'а' или 'и'.\n",
    "\n",
    "text = 'Если программист в 9-00 утра на работе, значит, он там и ночевал'\n",
    "\n",
    "P. S. Вам может помочь метод replace"
   ]
  },
  {
   "cell_type": "code",
   "execution_count": 36,
   "metadata": {},
   "outputs": [
    {
     "name": "stdout",
     "output_type": "stream",
     "text": [
      "В тексте чаще встречается буква и (и = 8 < a = 7)\n",
      "В тексте чаще встречается буква \"и\" (\"и\" = 8 > \"а\" = 7)\n",
      "В тексте чаще встречается буква и (и = 8 < a = 7)\n"
     ]
    }
   ],
   "source": [
    "text = 'Если программист в 9-00 утра на работе, значит, он там и ночевалииии'\n",
    "\n",
    "# Решение №1\n",
    "count_a, count_b = 0, 0\n",
    "\n",
    "for letter in text:\n",
    "    if letter == 'а':\n",
    "        count_a += 1\n",
    "    elif letter == 'и':\n",
    "        count_b += 1\n",
    "if count_a > count_b:\n",
    "    print('В тексте чаще встречается буква a (a = {} > и = {})'.format(count_a, count_b))\n",
    "elif count_a < count_b:\n",
    "    print('В тексте чаще встречается буква и (и = {} < a = {})'.format(count_b, count_a))\n",
    "else:\n",
    "    print('Буква \"а\" и \"и\" встречается одинаковое количество раз (a = и = {}).'.format(count_a))\n",
    "\n",
    "# Решение №2\n",
    "d = {'а': text.count('а'), 'и': text.count('и')}\n",
    "if d['а'] == d['и']:\n",
    "    print('Буква \"а\" и \"и\" встречается одинаковое количество раз (a = и = {}).'.format(d['а']))\n",
    "else:\n",
    "    if d['а'] > d['и']:\n",
    "        a = ['a', d['a'], 'и', d['и']]\n",
    "    else:\n",
    "        a = ['и', d['и'], 'а', d['а']]\n",
    "    print('В тексте чаще встречается буква \"{}\" (\"{}\" = {} > \"{}\" = {})'.format(a[0], a[0], a[1], a[2], a[3]))\n",
    "    \n",
    " # Решение №3   \n",
    "count_a, count_b = text.count('а'), text.count('и')\n",
    "if count_a > count_b:\n",
    "    print('В тексте чаще встречается буква a (a = {} > и = {})'.format(count_a, count_b))\n",
    "elif count_a < count_b:\n",
    "    print('В тексте чаще встречается буква и (и = {} < a = {})'.format(count_b, count_a))\n",
    "else:\n",
    "    print('Буква \"а\" и \"и\" встречается одинаковое количество раз (a = и = {}).'.format(count_a))"
   ]
  },
  {
   "cell_type": "code",
   "execution_count": 24,
   "metadata": {},
   "outputs": [
    {
     "name": "stdout",
     "output_type": "stream",
     "text": [
      "['и', 'и', 4, 'a', 7]\n"
     ]
    }
   ],
   "source": [
    "# Проверка.\n",
    "\n",
    "a = ['и', d['и'], 'a', d['a']]\n",
    "a.insert(0, a[0])\n",
    "print(a)"
   ]
  },
  {
   "cell_type": "markdown",
   "metadata": {},
   "source": [
    "**Задание 8** \n",
    "\n",
    "Дано число в двоичной системе счисления: num = 10011. Напишите алгоритм перевода этого числа в привычную нам десятичную систему счисления.\n",
    "\n",
    "Возможно, вам понадобится цикл прохождения всех целых чисел от 0 до m:\n"
   ]
  },
  {
   "cell_type": "code",
   "execution_count": 39,
   "metadata": {},
   "outputs": [
    {
     "name": "stdout",
     "output_type": "stream",
     "text": [
      "23\n"
     ]
    }
   ],
   "source": [
    "# 1 0 0 1 1 = 1*2**0 + 1*2**1 + 1*2**4 = 1 + 2 + 16 = 19\n",
    "#16 8 4 2 1 \n",
    "binary = 10111 # число в двоичном прдеставлении\n",
    "lst = list(map(int,str(binary)[::-1])) # перевернул исходное число и записал его в виде целочисленного списка.\n",
    "\n",
    "n, decimal = 0, 0 # ввел два счетчика; n - номер разряда; decimal - число в десятичном представлении.\n",
    "for i in lst:\n",
    "    decimal += i*(2**n)\n",
    "    n += 1\n",
    "print(decimal)"
   ]
  },
  {
   "cell_type": "code",
   "execution_count": 9,
   "metadata": {},
   "outputs": [
    {
     "name": "stdout",
     "output_type": "stream",
     "text": [
      "19\n"
     ]
    }
   ],
   "source": [
    "# Вариант 2\n",
    "binary = 10011\n",
    "decimal, n = 0, 0\n",
    "for i in str(binary)[::-1]:\n",
    "    decimal += int(i)*(2**n)\n",
    "    n += 1\n",
    "print(decimal)"
   ]
  },
  {
   "cell_type": "code",
   "execution_count": 10,
   "metadata": {},
   "outputs": [
    {
     "name": "stdout",
     "output_type": "stream",
     "text": [
      "4 1\n",
      "3 3\n",
      "2 3\n",
      "1 3\n",
      "0 19\n",
      "19\n"
     ]
    }
   ],
   "source": [
    "n, decimal = 0, 0 # ввел два счетчика; n - номер разряда; decimal - число в десятичном представлении.\n",
    "b = str(binary)\n",
    "for i in range(len(b)-1, -1, -1):\n",
    "    decimal += int(b[i])*(2**n)\n",
    "    print(i, decimal)\n",
    "    n += 1\n",
    "print(decimal)"
   ]
  },
  {
   "cell_type": "markdown",
   "metadata": {},
   "source": [
    "**Задание 9**. \n",
    "\n",
    "Нужно разработать приложение для финансового планирования.\n",
    "Приложение учитывает сколько уходит на ипотеку, \"на жизнь\" и сколько нужно отложить на пенсию.\n",
    "Пользователь вводит:\n",
    "- заработанную плату в месяц.\n",
    "- сколько процентов от ЗП уходит на ипотеку.\n",
    "- сколько процентов от ЗП уходит \"на жизнь\".\n",
    "- сколько раз приходит премия в год.\n",
    "\n",
    "Остальная часть заработанной платы откладывается на пенсию.\n",
    "\n",
    "Также пользователю приходит премия в размере зарплаты, от которой половина уходит на отпуск, а вторая половина откладывается.\n",
    "\n",
    "Программа должна учитывать сколько премий было в год.\n",
    "\n",
    "Нужно вывести сколько денег тратит пользователь на ипотеку и сколько он накопит за год.\n",
    "\n",
    "Пример:\n",
    "\n",
    "Введите заработанную плату в месяц: 100000\n",
    "\n",
    "Введите сколько процентов уходит на ипотеку: 30\n",
    "\n",
    "Введите сколько процентов уходит на жизнь: 50\n",
    "\n",
    "Введите количество премий за год: 2\n",
    "\n",
    "Вывод:\n",
    "На ипотеку было потрачено: 360000 рублей\n",
    "Было накоплено: 340000 рублей"
   ]
  },
  {
   "cell_type": "code",
   "execution_count": 5,
   "metadata": {},
   "outputs": [
    {
     "name": "stdout",
     "output_type": "stream",
     "text": [
      "Введите заработанную плату в месяц: 96000\n",
      "Введите сколько процентов уходит на ипотеку: 40\n",
      "Введите сколько процентов уходит на жизнь: 40\n",
      "Введите количество премий за год: 1\n",
      "На ипиотеку было потрачено: 460,800 рублей. Было накоплено: 278,400 рублей\n"
     ]
    }
   ],
   "source": [
    "month_salary = int(input('Введите заработанную плату в месяц: '))\n",
    "mrate = int(input('Введите сколько процентов уходит на ипотеку: '))/100                   \n",
    "payment_for_mortgage = int(month_salary * mrate)\n",
    "lrate = int(input('Введите сколько процентов уходит на жизнь: '))/100\n",
    "month_expenses = int(month_salary * lrate)\n",
    "bonus = month_salary * int(input('Введите количество премий за год: '))\n",
    "vacation = int(bonus / 2)\n",
    "\n",
    "annual_income = month_salary * 12 + bonus\n",
    "annual_expenses = (payment_for_mortgage + month_expenses) * 12 + vacation\n",
    "\n",
    "accumulation = annual_income - annual_expenses \n",
    "\n",
    "print('На ипиотеку было потрачено: {:,d} рублей. Было накоплено: {:,d} рублей'.format(payment_for_mortgage * 12, accumulation))"
   ]
  }
 ],
 "metadata": {
  "kernelspec": {
   "display_name": "Python 3",
   "language": "python",
   "name": "python3"
  },
  "language_info": {
   "codemirror_mode": {
    "name": "ipython",
    "version": 3
   },
   "file_extension": ".py",
   "mimetype": "text/x-python",
   "name": "python",
   "nbconvert_exporter": "python",
   "pygments_lexer": "ipython3",
   "version": "3.7.6"
  }
 },
 "nbformat": 4,
 "nbformat_minor": 4
}
