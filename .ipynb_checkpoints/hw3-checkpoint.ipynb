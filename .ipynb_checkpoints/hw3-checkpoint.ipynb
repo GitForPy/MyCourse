{
 "cells": [
  {
   "cell_type": "markdown",
   "metadata": {},
   "source": [
    "## Задание 1"
   ]
  },
  {
   "cell_type": "markdown",
   "metadata": {},
   "source": [
    "Дан список вида:"
   ]
  },
  {
   "cell_type": "code",
   "execution_count": 1,
   "metadata": {},
   "outputs": [],
   "source": [
    "data = [\n",
    "    [13, 25, 23, 34],\n",
    "    [45, 32, 44, 47],\n",
    "    [12, 33, 23, 95],\n",
    "    [13, 53, 34, 35]\n",
    "]"
   ]
  },
  {
   "cell_type": "markdown",
   "metadata": {},
   "source": [
    "Напишите функцию, которая возвращает сумму элементов на диагонали. Т. е. 13+32+23+35.  \n",
    "Список может быть любой длины, но всегда является \"квадратным\" (количество элементов во вложенных списках равно их количеству)."
   ]
  },
  {
   "cell_type": "code",
   "execution_count": 4,
   "metadata": {},
   "outputs": [
    {
     "data": {
      "text/plain": [
       "103"
      ]
     },
     "execution_count": 4,
     "metadata": {},
     "output_type": "execute_result"
    }
   ],
   "source": [
    "def  diagonal_sum(data):\n",
    "    result, pointer = 0, 0\n",
    "    for row in data:\n",
    "        result += row[pointer]\n",
    "        pointer += 1       \n",
    "    return result\n",
    "\n",
    "diagonal_sum(data)\n",
    "    "
   ]
  },
  {
   "cell_type": "markdown",
   "metadata": {},
   "source": [
    "## Задание 2"
   ]
  },
  {
   "cell_type": "markdown",
   "metadata": {},
   "source": [
    "Напишите функцию, возвращающую сумму первых n чисел Фибоначчи (для этого вам может понадобится ознакомиться с рекурсией)."
   ]
  },
  {
   "cell_type": "code",
   "execution_count": 5,
   "metadata": {},
   "outputs": [
    {
     "data": {
      "text/plain": [
       "8"
      ]
     },
     "execution_count": 5,
     "metadata": {},
     "output_type": "execute_result"
    }
   ],
   "source": [
    "# Последовательность вида: 0, 1, 1, 2, 3, 5, 8... при f(1) = 0; f(2)&f(3) = 1 fn>2 = f(n-2) + f(n-2)\n",
    "\n",
    "def fib(n):\n",
    "    if n == 1:\n",
    "        return 0\n",
    "    elif n == 2 or n == 3:\n",
    "        return 1\n",
    "    return fib(n-1) + fib(n-2)\n",
    "\n",
    "fib(7)"
   ]
  },
  {
   "cell_type": "markdown",
   "metadata": {},
   "source": [
    "## Задание 3\n"
   ]
  },
  {
   "cell_type": "markdown",
   "metadata": {},
   "source": [
    "Напишите функцию, преобразующую произвольный список вида ['2018-01-01', 'yandex', 'cpc', 100] (он может быть любой длины) в словарь {'2018-01-01': {'yandex': {'cpc': 100}}}"
   ]
  },
  {
   "cell_type": "code",
   "execution_count": 36,
   "metadata": {},
   "outputs": [
    {
     "name": "stdout",
     "output_type": "stream",
     "text": [
      "[1, 4, 9, 16, 25, 36, 49]\n"
     ]
    }
   ],
   "source": [
    "# list comprehension:\n",
    "values = [1, 2, 3, 4, 5, 6, 7]\n",
    "pairs = [i**2 for i in values]\n",
    "print(pairs)\n",
    "type(pairs)"
   ]
  },
  {
   "cell_type": "code",
   "execution_count": null,
   "metadata": {},
   "outputs": [],
   "source": [
    "# Преобразование списка в словарь:\n",
    "pairs = {i: i ** 2 for i in list_}\n",
    "print(pairs)"
   ]
  },
  {
   "cell_type": "code",
   "execution_count": 93,
   "metadata": {},
   "outputs": [
    {
     "name": "stdout",
     "output_type": "stream",
     "text": [
      "{'2018-01-01': 'yandex', 'cpc': 100}\n"
     ]
    }
   ],
   "source": [
    "values =  ['2018-01-01', 'yandex', 'cpc', 100]\n",
    "\n",
    "def convert_to_dict(data):\n",
    "    pairs = {values[i]: values[i + 1] for i in range(0, len(values), 2)} # range (len(list_)) - не работает, т.к. list_[i+1] на последнем проходе превысит размер списка\n",
    "    return pairs\n",
    "    \n",
    "print(convert_to_dict(values))\n",
    "\n"
   ]
  },
  {
   "cell_type": "markdown",
   "metadata": {},
   "source": [
    "## Задание 4"
   ]
  },
  {
   "cell_type": "markdown",
   "metadata": {},
   "source": [
    "Вы работаете секретарем и вам постоянно приходят различные документы. Вы должны быть очень внимательны, чтобы не потерять ни один документ. Каталог документов хранится в следующем виде:"
   ]
  },
  {
   "cell_type": "code",
   "execution_count": 4,
   "metadata": {},
   "outputs": [],
   "source": [
    "documents = [\n",
    "    {'type': 'passport', 'number': '2207 876234', 'name': 'Василий Гупкин'},\n",
    "    {'type': 'invoice', 'number': '11-2', 'name': 'Геннадий Покемонов'},\n",
    "    {'type': 'insurance', 'number': '10006', 'name': 'Аристарх Павлов'}\n",
    "]"
   ]
  },
  {
   "cell_type": "markdown",
   "metadata": {},
   "source": [
    "Перечень полок, на которых находятся документы хранится в следующем виде:"
   ]
  },
  {
   "cell_type": "code",
   "execution_count": null,
   "metadata": {},
   "outputs": [],
   "source": [
    "directories = {\n",
    "    '1': ['2207 876234', '11-2', '5455 028765'],\n",
    "    '2': ['10006', '5400 028765', '5455 002299'],\n",
    "    '3': []\n",
    "}"
   ]
  },
  {
   "cell_type": "markdown",
   "metadata": {},
   "source": [
    "Необходимо реализовать пользовательские команды (внимание! это не название функций, которые должны быть выразительными, а команды, которые вводит пользователь, чтобы получить необходимый результат):\n",
    "  \n",
    "- p – people – команда, которая спросит номер документа и выведет имя человека, которому он принадлежит;  \n",
    "- s – shelf – команда, которая спросит номер документа и выведет номер полки, на которой он находится  \n",
    "Правильно обработайте ситуацию, когда пользователь будет вводить несуществующий документ.\n",
    "- l – list – команда, которая выведет список всех документов в формате   \n",
    "**passport \"2207 876234\" \"Василий Гупкин\"**  \n",
    "- as – add shelf – команда, которая спросит номер новой полки и добавит ее в перечень\n",
    "- d – delete – команда, которая спросит номер документа и удалит его из каталога и из перечня полок. Предусмотрите сценарий, когда пользователь вводит несуществующий документ;  \n",
    "- m – move – команда, которая спросит номер документа и целевую полку и переместит его с текущей полки на целевую. Корректно обработайте кейсы, когда пользователь пытается переместить несуществующий документ или переместить документ на несуществующую полку;  \n",
    "- a – add – команда, которая добавит новый документ в каталог и в перечень полок, спросив его номер, тип, имя владельца и номер полки, на котором он будет храниться."
   ]
  },
  {
   "cell_type": "code",
   "execution_count": 45,
   "metadata": {},
   "outputs": [
    {
     "name": "stdout",
     "output_type": "stream",
     "text": [
      "Введите номер документа 123123\n",
      "\n",
      "В базе запись не найдена\n"
     ]
    },
    {
     "data": {
      "text/plain": [
       "('\\nВ базе запись не найдена', '')"
      ]
     },
     "execution_count": 45,
     "metadata": {},
     "output_type": "execute_result"
    }
   ],
   "source": [
    "documents = [\n",
    "    {'type': 'passport', 'number': '2207 876234', 'name': 'Василий Гупкин'},\n",
    "    {'type': 'invoice', 'number': '11-2', 'name': 'Геннадий Покемонов'},\n",
    "    {'type': 'insurance', 'number': '10006', 'name': 'Аристарх Павлов'}\n",
    "]\n",
    "\n",
    "directories = {\n",
    "    '1': ['2207 876234', '11-2', '5455 028765'],\n",
    "    '2': ['10006', '5400 028765', '5455 002299'],\n",
    "    '3': []\n",
    "}\n",
    "\n",
    "\n",
    "# p – people – команда, которая спросит номер документа и выведет имя человека, которому он принадлежит;\n",
    "def people():\n",
    "    doc_nubmer = input('Введите номер документа ')\n",
    "    for row in documents:\n",
    "        if row['number'] == doc_nubmer:\n",
    "            print('\\nВладелец документа:', row['name'])\n",
    "            return '\\nВладелец документа: ', row['name']    \n",
    "    print('\\nВ базе запись не найдена')\n",
    "    return '\\nВ базе запись не найдена', ''\n",
    "\n",
    "\n",
    "# s – shelf – команда, которая спросит номер документа и выведет номер полки, на которой он находится\n",
    "def shelf():  # TODO оптимизировать алгоритм - brake\n",
    "    doc_number = input('Введите номер документа ')\n",
    "    for shelf, doc_numbers in directories.items():\n",
    "        for number in doc_numbers:\n",
    "            if number == doc_number:\n",
    "                print('\\nДанный документ находится на полке -', shelf)\n",
    "                return '\\nДанный документ находится на полке -', shelf\n",
    "    print('\\nВ базе запись не найдена')\n",
    "    return '\\nВ базе запись не найдена', ''\n",
    "\n",
    "\n",
    "# people()\n",
    "shelf()"
   ]
  },
  {
   "cell_type": "code",
   "execution_count": 39,
   "metadata": {},
   "outputs": [
    {
     "name": "stdout",
     "output_type": "stream",
     "text": [
      "Введите номер документа 123123\n",
      "{'1': ['2207 876234', '11-2', '5455 028765'], '2': ['10006', '5400 028765', '5455 002299'], '3': []}\n"
     ]
    }
   ],
   "source": [
    "documents = [\n",
    "    {'type': 'passport', 'number': '2207 876234', 'name': 'Василий Гупкин'},\n",
    "    {'type': 'invoice', 'number': '11-2', 'name': 'Геннадий Покемонов'},\n",
    "    {'type': 'insurance', 'number': '10006', 'name': 'Аристарх Павлов'}\n",
    "]\n",
    "\n",
    "\n",
    "directories = {\n",
    "    '1': ['2207 876234', '11-2', '5455 028765'],\n",
    "    '2': ['10006', '5400 028765', '5455 002299'],\n",
    "    '3': []\n",
    "}\n",
    "\n",
    "\n",
    "# #p – people – команда, которая спросит номер документа и выведет имя человека, которому он принадлежит;\n",
    "\n",
    "def person_info():\n",
    "    doc_nubmer = input('Введите номер документа ')\n",
    "    cheked_rows = 0\n",
    "    for row in documents:\n",
    "        if row['number'] == doc_nubmer:\n",
    "            print('\\nВладелец документа:', row['name'])\n",
    "        else:\n",
    "            cheked_rows += 1\n",
    "    if cheked_rows == len(documents):\n",
    "        print('\\nВ базе запись не найдена')\n",
    "\n",
    "\n",
    "# s – shelf – команда, которая спросит номер документа и выведет номер полки, на которой он находится\n",
    "\n",
    "def doc_storage():  # TODO оптимизировать алгоритм - brake\n",
    "    doc_number = input('Введите номер документа ')\n",
    "    d_new = {}\n",
    "    cheked_rows = 0\n",
    "    for k, v in directories.items():\n",
    "          if len(v) > 0:               # для того, чтобы исключить вариант с пустой полкой\n",
    "                d_new.setdefault(v[1], k)\n",
    "    for k, v in d_new.items():\n",
    "        if k == doc_number:\n",
    "            print('\\nДанный документ находится на полке -', v)\n",
    "#         else:\n",
    "#             cheked_rows += 1\n",
    "#     if cheked_rows == len(d_new):\n",
    "#         print('\\nВ базе запись не найдена')\n",
    "\n",
    "\n",
    "# l– list – команда, которая выведет список всех документов в формате passport \"2207 876234\" \"Василий Гупкин\";\n",
    "\n",
    "def list_documents():\n",
    "    for row in documents:\n",
    "        print('{} \"{}\" \"{}\"'.format(row['type'], row['number'], row['name']))\n",
    "\n",
    "#  d – delete – команда, которая спросит номер документа и удалит его из каталога и из перечня полок. \n",
    "#      Предусмотрите сценарий, когда пользователь вводит несуществующий документ;\n",
    "\n",
    "# documents = [\n",
    "#     {'type': 'passport', 'number': '2207 876234', 'name': 'Василий Гупкин'},\n",
    "#     {'type': 'invoice', 'number': '11-2', 'name': 'Геннадий Покемонов'},\n",
    "#     {'type': 'insurance', 'number': '10006', 'name': 'Аристарх Павлов'}\n",
    "# ]\n",
    "\n",
    "\n",
    "def del_doc():\n",
    "    doc_num = input('Введите номер документа ')\n",
    "    for row in documents: # Удаляем из документа\n",
    "        if row['number'] == doc_num:\n",
    "            documents.remove(row)\n",
    "            print('Строка c документом {} успешна удалена'.format(doc_num))\n",
    "\n",
    "            # необходимо реализовать вариант, когда пользователь вводит несуществующий док-т   \n",
    "\n",
    "# directories = {\n",
    "#     '1': ['2207 876234', '11-2', '5455 028765'],\n",
    "#     '2': ['10006', '5400 028765', '5455 002299'],\n",
    "#     '3': []\n",
    "# }\n",
    "    \n",
    "#     for row in directories.values(): # Удаляем из директории\n",
    "#         if row[1] == doc_num:\n",
    "#             row.remove(doc_num)\n",
    "            \n",
    "# print('\\n  Номер документа удален из каталога и полки!')\n",
    "        \n",
    "        \n",
    "\n",
    "\n",
    "del_doc()\n",
    "print(directories)\n",
    "\n",
    "\n",
    "\n",
    "# функция добавлени новой полки\n",
    "def add_new_shelf():\n",
    "    print('Добавлени новой полки')\n",
    "    new_shelf = input('введите номер новый номер полки ')\n",
    "    for enum_directories_key in directories.keys():\n",
    "        if new_shelf == enum_directories_key:\n",
    "            print('такая полка уже есть')\n",
    "            return\n",
    "    directories[new_shelf]=[]\n",
    "\n"
   ]
  },
  {
   "cell_type": "code",
   "execution_count": null,
   "metadata": {},
   "outputs": [],
   "source": [
    "12"
   ]
  }
 ],
 "metadata": {
  "kernelspec": {
   "display_name": "Python 3",
   "language": "python",
   "name": "python3"
  },
  "language_info": {
   "codemirror_mode": {
    "name": "ipython",
    "version": 3
   },
   "file_extension": ".py",
   "mimetype": "text/x-python",
   "name": "python",
   "nbconvert_exporter": "python",
   "pygments_lexer": "ipython3",
   "version": "3.7.6"
  }
 },
 "nbformat": 4,
 "nbformat_minor": 2
}
